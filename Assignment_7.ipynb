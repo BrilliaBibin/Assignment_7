{
 "cells": [
  {
   "cell_type": "raw",
   "id": "ac5b5511-3fdc-4fd2-ab20-6570b55a1cc9",
   "metadata": {},
   "source": [
    "1. What is the name of the feature responsible for generating Regex objects?\n",
    "\n",
    "        The re.compile() function returns Regex objects.\n",
    "        \n",
    "Syntax of re.compile():\n",
    "\n",
    "          re.compile(pattern, flags=0)"
   ]
  },
  {
   "cell_type": "code",
   "execution_count": 7,
   "id": "74baa895-3407-42ef-aeda-bb93cb98d49f",
   "metadata": {},
   "outputs": [
    {
     "name": "stdout",
     "output_type": "stream",
     "text": [
      "['MY', 'MY', 'MY']\n",
      "['MY']\n"
     ]
    }
   ],
   "source": [
    "import re\n",
    "pattern=re.compile('MY')\n",
    "result=pattern.findall('MY book and MY pen is on MY table')\n",
    "print(result)\n",
    "result2=pattern.findall('MY pen wrote well')\n",
    "print(result2)"
   ]
  },
  {
   "cell_type": "raw",
   "id": "6ec93004-9bc0-43b1-a552-640a18685cb8",
   "metadata": {},
   "source": [
    "2. Why do raw strings often appear in Regex objects?\n",
    "\n",
    "        Raw strings are used so that backslashes do not have to be escaped."
   ]
  },
  {
   "cell_type": "code",
   "execution_count": 9,
   "id": "d24096a9-7b6e-438f-851f-cd667295dbbb",
   "metadata": {},
   "outputs": [
    {
     "name": "stdout",
     "output_type": "stream",
     "text": [
      "lang\\tver\\nPython\\t3\n"
     ]
    }
   ],
   "source": [
    "s = r'lang\\tver\\nPython\\t3'\n",
    "print(s)"
   ]
  },
  {
   "cell_type": "raw",
   "id": "4ecf0622-50e8-42d3-b9f9-8c2f66e224d5",
   "metadata": {},
   "source": [
    "3. What is the return value of the search() method?\n",
    "\n",
    "       The search() method returns Match objects.If there is no match, the value None will be returned, instead of the Match Object."
   ]
  },
  {
   "cell_type": "code",
   "execution_count": 10,
   "id": "857972e7-36db-4513-8956-c7048948e6b3",
   "metadata": {},
   "outputs": [
    {
     "name": "stdout",
     "output_type": "stream",
     "text": [
      "<re.Match object; span=(5, 7), match='ai'>\n"
     ]
    }
   ],
   "source": [
    "import re\n",
    "\n",
    "txt = \"The rain in Spain\"\n",
    "x = re.search(\"ai\", txt)\n",
    "print(x)"
   ]
  },
  {
   "cell_type": "raw",
   "id": "50356329-898e-40a8-b227-c91fa5266c71",
   "metadata": {},
   "source": [
    "4. From a Match item, how do you get the actual strings that match the pattern?\n",
    "\n",
    "          The group() method returns strings of the matched text."
   ]
  },
  {
   "cell_type": "code",
   "execution_count": 11,
   "id": "67f68dc7-7d92-40ca-8a1b-36efa0e532e6",
   "metadata": {},
   "outputs": [
    {
     "name": "stdout",
     "output_type": "stream",
     "text": [
      "Spain\n"
     ]
    }
   ],
   "source": [
    "import re\n",
    "\n",
    "txt = \"The rain in Spain\"\n",
    "x = re.search(r\"\\bS\\w+\", txt)\n",
    "print(x.group())"
   ]
  },
  {
   "cell_type": "raw",
   "id": "c609faa1-2add-480a-92f9-67e3ed9fc206",
   "metadata": {},
   "source": [
    "5. In the regex which created from the r'(\\d\\d\\d)-(\\d\\d\\d-\\d\\d\\d\\d)', what does group zero cover?\n",
    "Group 2? Group 1?"
   ]
  },
  {
   "cell_type": "code",
   "execution_count": 7,
   "id": "9b9f7f54-1a42-45bf-84d6-b65879cba2cb",
   "metadata": {},
   "outputs": [
    {
     "name": "stdout",
     "output_type": "stream",
     "text": [
      "415-555-4242\n",
      "415\n",
      "555-4242\n"
     ]
    }
   ],
   "source": [
    "import re\n",
    "phoneNumRegex = re.compile(r'(\\d\\d\\d)-(\\d\\d\\d-\\d\\d\\d\\d)')\n",
    "mo = phoneNumRegex.search('My number is 415-555-4242.')\n",
    "print(mo.group(0))\n",
    "print(mo.group(1))\n",
    "print(mo.group(2))"
   ]
  },
  {
   "cell_type": "raw",
   "id": "a3186981-b79c-4b1e-a92d-3f630403625f",
   "metadata": {},
   "source": [
    "6. In standard expression syntax, parentheses and intervals have distinct meanings. How can you tell\n",
    "a regex that you want it to fit real parentheses and periods?\n",
    "\n",
    "            Periods and parentheses can be escaped with a backslash: \\., \\(, and \\)."
   ]
  },
  {
   "cell_type": "raw",
   "id": "dd420214-bfd8-4601-8e72-ddc505255564",
   "metadata": {},
   "source": [
    "7. The findall() method returns a string list or a list of string tuples. What causes it to return one of\n",
    "the two options?\n",
    "\n",
    "        If the regex has no groups, a list of strings is returned. If the regex has groups, a list of tuples of strings is returned."
   ]
  },
  {
   "cell_type": "code",
   "execution_count": 11,
   "id": "44d987c3-7d9c-4749-bf9d-fbe597bcaafd",
   "metadata": {},
   "outputs": [
    {
     "name": "stdout",
     "output_type": "stream",
     "text": [
      "['a', 'b', 'cd', 'e', 'f', 'g', 'hij', 'k']\n"
     ]
    }
   ],
   "source": [
    "import re\n",
    "s = 'ab1cd2efg1hij2k'\n",
    "a = re.findall( r'((?:1)([a-z]+)(?:2)|([a-z]))', s )\n",
    "a = [tuple(j for j in i if j)[-1] for i in a]\n",
    "\n",
    "print(a)"
   ]
  },
  {
   "cell_type": "raw",
   "id": "943c58b2-17cd-46c8-8c8b-ed72914a9de3",
   "metadata": {},
   "source": [
    "8. In standard expressions, what does the | character mean?\n",
    "\n",
    "           The | character signifies matching \"either, or\" between two groups."
   ]
  },
  {
   "cell_type": "code",
   "execution_count": 19,
   "id": "1b0ab307-29a4-472c-821b-a8c82e4a8010",
   "metadata": {},
   "outputs": [
    {
     "name": "stdout",
     "output_type": "stream",
     "text": [
      "['falls']\n"
     ]
    }
   ],
   "source": [
    "import re\n",
    "\n",
    "txt = \"The rain in Spain falls mainly in the plain!\"\n",
    "\n",
    "x = re.findall(\"falls|stays\", txt)\n",
    "\n",
    "print(x)\n",
    "\n"
   ]
  },
  {
   "cell_type": "raw",
   "id": "576f70a6-b34d-4314-bc94-a8b44ff2362d",
   "metadata": {},
   "source": [
    "9. In regular expressions, what does the character stand for?\n",
    "\n",
    "          All characters, except those having special meaning in regex, matches themselves. E.g., the regex x matches substring \"x\"; regex 9 matches \"9\"; regex = matches \"=\"; and regex @ matches \"@\"."
   ]
  },
  {
   "cell_type": "raw",
   "id": "fcc61a98-7a3a-47f9-859f-02d5055969e9",
   "metadata": {},
   "source": [
    "10.In regular expressions, what is the difference between the + and * characters?\n",
    "\n",
    "         The + matches one or more. The * matches zero or more."
   ]
  },
  {
   "cell_type": "code",
   "execution_count": 20,
   "id": "97009532-7216-4c46-ae95-f8b4337e6d37",
   "metadata": {},
   "outputs": [
    {
     "name": "stdout",
     "output_type": "stream",
     "text": [
      "['hello']\n"
     ]
    }
   ],
   "source": [
    "import re\n",
    "\n",
    "txt = \"hello planet\"\n",
    "\n",
    "\n",
    "x = re.findall(\"he.*o\", txt)\n",
    "\n",
    "print(x)\n"
   ]
  },
  {
   "cell_type": "code",
   "execution_count": 21,
   "id": "d9f7b90a-e3b8-490f-ae88-f7e539746952",
   "metadata": {},
   "outputs": [
    {
     "name": "stdout",
     "output_type": "stream",
     "text": [
      "['hello']\n"
     ]
    }
   ],
   "source": [
    "import re\n",
    "\n",
    "txt = \"hello planet\"\n",
    "\n",
    "\n",
    "x = re.findall(\"he.+o\", txt)\n",
    "\n",
    "print(x)\n"
   ]
  },
  {
   "cell_type": "raw",
   "id": "616c90cf-6617-4873-95a6-8dcaa0413498",
   "metadata": {},
   "source": [
    "11. What is the difference between {4} and {4,5} in regular expression?\n",
    "\n",
    "           The {4} matches exactly four instances of the preceding group. The {4,5} matches four and five instances.\n"
   ]
  },
  {
   "cell_type": "code",
   "execution_count": 22,
   "id": "daf20945-a6fc-44ae-ac8d-a33f9c146f1a",
   "metadata": {},
   "outputs": [
    {
     "name": "stdout",
     "output_type": "stream",
     "text": [
      "['oneneuron']\n"
     ]
    }
   ],
   "source": [
    "import re\n",
    "\n",
    "txt = \"oneneuron\"\n",
    "\n",
    "\n",
    "x = re.findall(\"one.{4}on\", txt)\n",
    "\n",
    "print(x)\n"
   ]
  },
  {
   "cell_type": "code",
   "execution_count": 23,
   "id": "43efdc6c-2582-446c-89d9-0ea62bd00a0c",
   "metadata": {},
   "outputs": [
    {
     "name": "stdout",
     "output_type": "stream",
     "text": [
      "['oneneuron']\n"
     ]
    }
   ],
   "source": [
    "import re\n",
    "\n",
    "txt = \"oneneuron\"\n",
    "\n",
    "\n",
    "x = re.findall(\"on.{4,5}on\", txt)\n",
    "\n",
    "print(x)"
   ]
  },
  {
   "cell_type": "raw",
   "id": "1865c690-7025-4748-87ea-86aabfb918a3",
   "metadata": {},
   "source": [
    "12. What do you mean by the \\d, \\w, and \\s shorthand character classes signify in regular\n",
    "expressions?\n",
    "\n",
    "     \\d : Returns a match where the string contains digits (numbers from 0-9)\n",
    "     \\w : Returns a match where the string contains any word characters (characters from a to Z, digits from 0-9, and the underscore _ character)\n",
    "     \\s : Returns a match where the string contains a white space character"
   ]
  },
  {
   "cell_type": "code",
   "execution_count": 24,
   "id": "1d01e4fa-6c67-48cf-8f31-81cc1a156f2e",
   "metadata": {},
   "outputs": [
    {
     "name": "stdout",
     "output_type": "stream",
     "text": [
      "[]\n"
     ]
    }
   ],
   "source": [
    "import re\n",
    "\n",
    "txt = \"The rain in Spain\"\n",
    "\n",
    "#Check if the string contains any digits (numbers from 0-9):\n",
    "\n",
    "x = re.findall(\"\\d\", txt)\n",
    "\n",
    "print(x)"
   ]
  },
  {
   "cell_type": "code",
   "execution_count": 25,
   "id": "6729431b-b229-43c2-9ae9-3b8e7e7c2184",
   "metadata": {},
   "outputs": [
    {
     "name": "stdout",
     "output_type": "stream",
     "text": [
      "['T', 'h', 'e', 'r', 'a', 'i', 'n', 'i', 'n', 'S', 'p', 'a', 'i', 'n']\n"
     ]
    }
   ],
   "source": [
    "import re\n",
    "\n",
    "txt = \"The rain in Spain\"\n",
    "\n",
    "#Return a match at every word character (characters from a to Z, digits from 0-9, and the underscore _ character):\n",
    "\n",
    "x = re.findall(\"\\w\", txt)\n",
    "\n",
    "print(x)\n"
   ]
  },
  {
   "cell_type": "code",
   "execution_count": 26,
   "id": "120ed00d-25ff-47d5-862b-e9e8379b5f6a",
   "metadata": {},
   "outputs": [
    {
     "name": "stdout",
     "output_type": "stream",
     "text": [
      "[' ', ' ', ' ']\n"
     ]
    }
   ],
   "source": [
    "import re\n",
    "\n",
    "txt = \"The rain in Spain\"\n",
    "\n",
    "#Return a match at every white-space character:\n",
    "\n",
    "x = re.findall(\"\\s\", txt)\n",
    "\n",
    "print(x)\n"
   ]
  },
  {
   "cell_type": "raw",
   "id": "3fdf16c2-f006-4728-8e38-5e94630f24f3",
   "metadata": {},
   "source": [
    "13. What do means by \\D, \\W, and \\S shorthand character classes signify in regular expressions?\n",
    "\n",
    "        \\D : Returns a match where the string DOES NOT contain digits\n",
    "        \\W : Returns a match where the string DOES NOT contain any word characters\n",
    "        \\S : Returns a match where the string DOES NOT contain a white space character"
   ]
  },
  {
   "cell_type": "code",
   "execution_count": 27,
   "id": "2f1af585-b987-4751-be30-e69dccc91197",
   "metadata": {},
   "outputs": [
    {
     "name": "stdout",
     "output_type": "stream",
     "text": [
      "['T', 'h', 'e', ' ', 'r', 'a', 'i', 'n', ' ', 'i', 'n', ' ', 'S', 'p', 'a', 'i', 'n']\n"
     ]
    }
   ],
   "source": [
    "import re\n",
    "\n",
    "txt = \"The rain in Spain\"\n",
    "\n",
    "#Return a match at every no-digit character:\n",
    "\n",
    "x = re.findall(\"\\D\", txt)\n",
    "\n",
    "print(x)\n"
   ]
  },
  {
   "cell_type": "code",
   "execution_count": 28,
   "id": "9486462d-a65b-4cfa-8927-e4c4f12f41ee",
   "metadata": {},
   "outputs": [
    {
     "name": "stdout",
     "output_type": "stream",
     "text": [
      "[' ', ' ', ' ']\n"
     ]
    }
   ],
   "source": [
    "import re\n",
    "\n",
    "txt = \"The rain in Spain\"\n",
    "\n",
    "#Return a match at every NON word character (characters NOT between a and Z. Like \"!\", \"?\" white-space etc.):\n",
    "\n",
    "x = re.findall(\"\\W\", txt)\n",
    "\n",
    "print(x)\n"
   ]
  },
  {
   "cell_type": "code",
   "execution_count": 29,
   "id": "54649e5e-24aa-431a-9a27-26eb40d5e112",
   "metadata": {},
   "outputs": [
    {
     "name": "stdout",
     "output_type": "stream",
     "text": [
      "['T', 'h', 'e', 'r', 'a', 'i', 'n', 'i', 'n', 'S', 'p', 'a', 'i', 'n']\n"
     ]
    }
   ],
   "source": [
    "import re\n",
    "\n",
    "txt = \"The rain in Spain\"\n",
    "\n",
    "#Return a match at every NON white-space character:\n",
    "\n",
    "x = re.findall(\"\\S\", txt)\n",
    "\n",
    "print(x)"
   ]
  },
  {
   "cell_type": "raw",
   "id": "562298dd-a605-4ffd-b408-9d967895e412",
   "metadata": {},
   "source": [
    "14. What is the difference between .* and .*?\n",
    "\n",
    "       .*  : The greedy match will try to match as many repetitions of the quantified pattern as possible. \n",
    "       .*? : The non-greedy match will try to match as few repetitions of the quantified pattern as possible."
   ]
  },
  {
   "cell_type": "code",
   "execution_count": 30,
   "id": "69830353-5efd-4a6c-9561-d96e6df4e5d1",
   "metadata": {},
   "outputs": [
    {
     "data": {
      "text/plain": [
       "['aaaa', '']"
      ]
     },
     "execution_count": 30,
     "metadata": {},
     "output_type": "execute_result"
    }
   ],
   "source": [
    "re.findall('a*', 'aaaa')"
   ]
  },
  {
   "cell_type": "code",
   "execution_count": 31,
   "id": "a7a91be0-e2ec-4833-b5da-b8d9813d587c",
   "metadata": {},
   "outputs": [
    {
     "data": {
      "text/plain": [
       "['', 'a', '', 'a', '', 'a', '', 'a', '']"
      ]
     },
     "execution_count": 31,
     "metadata": {},
     "output_type": "execute_result"
    }
   ],
   "source": [
    "re.findall('a*?', 'aaaa')"
   ]
  },
  {
   "cell_type": "raw",
   "id": "6b1af2fc-c1e1-44f9-a61b-33d120a83e7c",
   "metadata": {},
   "source": [
    "15. What is the syntax for matching both numbers and lowercase letters with a character class?\n",
    "\n",
    "         Either [0-9a-z] or [a-z0-9]"
   ]
  },
  {
   "cell_type": "code",
   "execution_count": 35,
   "id": "5166d994-86b6-4273-b214-207307b9f8b2",
   "metadata": {},
   "outputs": [
    {
     "name": "stdout",
     "output_type": "stream",
     "text": [
      "['8', 't', 'i', 'm', 'e', 's', 'b', 'e', 'f', 'o', 'r', 'e', '1', '1', '4', '5']\n"
     ]
    }
   ],
   "source": [
    "import re\n",
    "\n",
    "txt = \"8 times before 11:45 AM\"\n",
    "\n",
    "#Check if the string has any digits:\n",
    "\n",
    "x = re.findall(\"[0-9a-z]\", txt)\n",
    "\n",
    "print(x)\n"
   ]
  },
  {
   "cell_type": "code",
   "execution_count": 36,
   "id": "e7f02df5-80d2-4f8b-917d-76d00c160580",
   "metadata": {},
   "outputs": [
    {
     "name": "stdout",
     "output_type": "stream",
     "text": [
      "['8', 't', 'i', 'm', 'e', 's', 'b', 'e', 'f', 'o', 'r', 'e', '1', '1', '4', '5']\n"
     ]
    }
   ],
   "source": [
    "import re\n",
    "\n",
    "txt = \"8 times before 11:45 AM\"\n",
    "\n",
    "#Check if the string has any digits:\n",
    "\n",
    "x = re.findall(\"[a-z0-9]\", txt)\n",
    "\n",
    "print(x)\n"
   ]
  },
  {
   "cell_type": "raw",
   "id": "2de2e046-155a-4f8c-997f-ef05ab886b17",
   "metadata": {},
   "source": [
    "16. What is the procedure for making a normal expression in regax case insensitive?\n",
    "\n",
    "          Passing re.I or re.IGNORECASE as the second argument to re.compile() will make the matching case insensitive."
   ]
  },
  {
   "cell_type": "code",
   "execution_count": 38,
   "id": "b2b6a8ad-ddc5-44c2-831d-0a7e7135bbb0",
   "metadata": {},
   "outputs": [
    {
     "name": "stdout",
     "output_type": "stream",
     "text": [
      "<re.Match object; span=(0, 4), match='BuSh'>\n",
      "<re.Match object; span=(0, 4), match='BuSh'>\n",
      "ffffmeat\n"
     ]
    }
   ],
   "source": [
    "import re\n",
    "print (re.search('bush', 'BuSh', re.IGNORECASE))\n",
    "print (re.match('bush', 'BuSh', re.IGNORECASE))\n",
    "print (re.sub('bush', 'ffff', 'Bushmeat', flags=re.IGNORECASE))"
   ]
  },
  {
   "cell_type": "raw",
   "id": "73352829-6bec-4c22-a0fc-2bbfe0597e68",
   "metadata": {},
   "source": [
    "17. What does the . character normally match? What does it match if re.DOTALL is passed as 2nd\n",
    "argument in re.compile()?\n",
    "\n",
    "      The . character normally matches any character except the newline character. If re.DOTALL is passed as the second argument to re.compile(), then the dot will also match newline characters."
   ]
  },
  {
   "cell_type": "code",
   "execution_count": 46,
   "id": "d2bb489d-4317-41fe-a474-e25be1cffd02",
   "metadata": {},
   "outputs": [
    {
     "data": {
      "text/plain": [
       "'Hi there\\nHave a Nice Day'"
      ]
     },
     "execution_count": 46,
     "metadata": {},
     "output_type": "execute_result"
    }
   ],
   "source": [
    "re.sub(r'the.*ice', 'X', 'Hi there\\nHave a Nice Day')"
   ]
  },
  {
   "cell_type": "raw",
   "id": "5a19ba35-794a-4ab0-8c37-d10f2369e2e1",
   "metadata": {},
   "source": [
    "18. If numReg = re.compile(r'\\d+'), what will numRegex.sub('X', '11 drummers, 10 pipers, five rings, 4\n",
    "hen') return?\n",
    "\n",
    "        'X drummers, X pipers, five rings, X hens'"
   ]
  },
  {
   "cell_type": "code",
   "execution_count": 48,
   "id": "0e546e2a-d7ab-4771-b701-40b291f81896",
   "metadata": {},
   "outputs": [
    {
     "data": {
      "text/plain": [
       "'X drummers, X pipers, five rings, X hen'"
      ]
     },
     "execution_count": 48,
     "metadata": {},
     "output_type": "execute_result"
    }
   ],
   "source": [
    "numReg = re.compile(r'\\d+')\n",
    "numReg.sub('X', '11 drummers, 10 pipers, five rings, 4 hen')"
   ]
  },
  {
   "cell_type": "raw",
   "id": "ea4f0180-8cfa-4e39-beab-893a7483ec0f",
   "metadata": {},
   "source": [
    "19. What does passing re.VERBOSE as the 2nd argument to re.compile() allow to do?\n",
    "\n",
    "          The re.VERBOSE argument allows you to add whitespace and comments to the string passed to re.compile()."
   ]
  },
  {
   "cell_type": "code",
   "execution_count": 51,
   "id": "7f92482e-7beb-4067-8d28-6846ec47ae62",
   "metadata": {},
   "outputs": [
    {
     "data": {
      "text/plain": [
       "re.compile(r'Issue Summary: fails', re.UNICODE|re.VERBOSE)"
      ]
     },
     "execution_count": 51,
     "metadata": {},
     "output_type": "execute_result"
    }
   ],
   "source": [
    "re.compile(r'Issue Summary: fails', re.VERBOSE)"
   ]
  },
  {
   "cell_type": "raw",
   "id": "b9411713-632c-407f-96b1-863025579010",
   "metadata": {},
   "source": [
    "20. How would you write a regex that match a number with comma for every three digits? It must\n",
    "match the given following:\n",
    "'42'\n",
    "'1,234'\n",
    "'6,368,745'\n",
    "but not the following:\n",
    "'12,34,567' (which has only two digits between the commas)\n",
    "'1234' (which lacks commas)\n",
    "\n",
    "        re.compile(r'^\\d{1,3}(,\\d{3})*$') will create this regex, but other regex strings can produce a similar regular expression."
   ]
  },
  {
   "cell_type": "code",
   "execution_count": 52,
   "id": "630c21b5-abba-4483-94ce-b67406fcf23b",
   "metadata": {},
   "outputs": [
    {
     "data": {
      "text/plain": [
       "re.compile(r'^\\d{1,3}(,\\d{3})*$', re.UNICODE)"
      ]
     },
     "execution_count": 52,
     "metadata": {},
     "output_type": "execute_result"
    }
   ],
   "source": [
    "re.compile(r'^\\d{1,3}(,\\d{3})*$')"
   ]
  },
  {
   "cell_type": "raw",
   "id": "64c20f11-84c2-42cd-af54-9799de90d360",
   "metadata": {},
   "source": [
    "21. How would you write a regex that matches the full name of someone whose last name is\n",
    "Watanabe? You can assume that the first name that comes before it will always be one word that\n",
    "begins with a capital letter. The regex must match the following:\n",
    "'Haruto Watanabe'\n",
    "'Alice Watanabe'\n",
    "'RoboCop Watanabe'\n",
    "but not the following:\n",
    "'haruto Watanabe' (where the first name is not capitalized)\n",
    "'Mr. Watanabe' (where the preceding word has a nonletter character)\n",
    "'Watanabe' (which has no first name)\n",
    "'Haruto watanabe' (where Watanabe is not capitalized)\n",
    "\n",
    "         re.compile(r'[A-Z][a-z]*\\sNakamoto')"
   ]
  },
  {
   "cell_type": "code",
   "execution_count": 60,
   "id": "b1d16300-f58e-4961-8190-e6a754beedde",
   "metadata": {},
   "outputs": [
    {
     "name": "stdout",
     "output_type": "stream",
     "text": [
      "How would you write a regex that matches the full name of someone whose last name is Watanabe? You can assume that the first name that comes before it will always be one word that begins with a capital letter. The regex must match the following:\n",
      "\n",
      "'Haruto Watanabe'\n",
      "'Alice Watanabe'\n",
      "'RoboCop Watanabe'\n",
      "\n",
      "but not the following:\n",
      "\n",
      "'haruto Watanabe' (where the first name is not capitalized)\n",
      "'Mr. Watanabe' (where the preceding word has a nonletter character)\n",
      "'Watanabe' (which has no first name)\n",
      "'Haruto watanabe' (where Watanabe is not capitalized)\n",
      "\n",
      "\n",
      "\t*************\n",
      "\n",
      "This is the result I get using my regex with search in text:\n",
      "Haruto Watanabe\n",
      "\n",
      "\n",
      "Next, the result of using my regex with search over each possible name to match:\n",
      "Haruto Watanabe\n",
      "Alice Watanabe\n",
      "RoboCop Watanabe\n",
      "\n",
      "\n",
      "Finally, the result of using the same regex with findall (same text as in first search):\n",
      "Haruto Watanabe\n",
      "Alice Watanabe\n",
      "RoboCop Watanabe\n"
     ]
    }
   ],
   "source": [
    "import re\n",
    "\n",
    "heading = \"\"\"How would you write a regex that matches the full name of someone whose last name is Watanabe? You can assume that the first name that comes before it will always be one word that begins with a capital letter. The regex must match the following:\n",
    "\n",
    "'Haruto Watanabe'\n",
    "'Alice Watanabe'\n",
    "'RoboCop Watanabe'\n",
    "\n",
    "but not the following:\n",
    "\n",
    "'haruto Watanabe' (where the first name is not capitalized)\n",
    "'Mr. Watanabe' (where the preceding word has a nonletter character)\n",
    "'Watanabe' (which has no first name)\n",
    "'Haruto watanabe' (where Watanabe is not capitalized)\"\"\"\n",
    "\n",
    "print(heading)\n",
    "\n",
    "name_regex = re.compile(r'[A-Z](?:\\w)+\\sWatanabe')\n",
    "\n",
    "text = \"The regex must match the following: 'Haruto Watanabe' 'Alice Watanabe' 'RoboCop Watanabe' but not the following: 'haruto Watanabe' (where the first name is not capitalized) 'Mr. Watanabe' (where the preceding word has a nonletter character) 'Watanabe'(which has no first name) 'Haruto watanabe'.\"\n",
    "\n",
    "print(\"\\n\\n\\t*************\\n\\nThis is the result I get using my regex with search in text:\")\n",
    "mo0 = name_regex.search(text)\n",
    "found = mo0.group()\n",
    "print(found + '\\n\\n')\n",
    "\n",
    "mo1 = name_regex.search('Haruto Watanabe')\n",
    "mo2 = name_regex.search('Alice Watanabe')\n",
    "mo3 = name_regex.search('RoboCop Watanabe')\n",
    "mo4 = name_regex.search('Watanabe')\n",
    "mo5 = name_regex.search('Mr. Watanabe')\n",
    "mo6 = name_regex.search('Haruto watanabe')\n",
    "mo7 = name_regex.search('haruto watanabe')\n",
    "\n",
    "mo_l = [mo1, mo2, mo3, mo4, mo5, mo6, mo7]\n",
    "\n",
    "print(\"Next, the result of using my regex with search over each possible name to match:\")\n",
    "try:\n",
    "    for mo_x in mo_l:\n",
    "        mo = mo_x.group()\n",
    "        print(mo)\n",
    "except AttributeError:\n",
    "    pass\n",
    "\n",
    "print(\"\\n\\nFinally, the result of using the same regex with findall (same text as in first search):\")\n",
    "\n",
    "all_matches = re.findall(name_regex, text)\n",
    "\n",
    "for match in all_matches:\n",
    "    print(match)\n"
   ]
  },
  {
   "cell_type": "raw",
   "id": "d1993845-84bc-4bf5-a64b-70936e7072fc",
   "metadata": {},
   "source": [
    "22. How would you write a regex that matches a sentence where the first word is either Alice, Bob,\n",
    "or Carol; the second word is either eats, pets, or throws; the third word is apples, cats, or baseballs;\n",
    "and the sentence ends with a period? This regex should be case-insensitive. It must match the\n",
    "following:\n",
    "'Alice eats apples.'\n",
    "'Bob pets cats.'\n",
    "'Carol throws baseballs.'\n",
    "'Alice throws Apples.'\n",
    "'BOB EATS CATS.'\n",
    "but not the following:\n",
    "'RoboCop eats apples.'\n",
    "'ALICE THROWS FOOTBALLS.'\n",
    "'Carol eats 7 cats.'\n",
    "\n",
    "       re.compile(r'(Alice|Bob|Carol)\\s(eats|pets|throws)\\s(apples|cats|baseballs)\\.', re.IGNORECASE)"
   ]
  },
  {
   "cell_type": "code",
   "execution_count": 64,
   "id": "660bc6f3-1287-404a-8033-06ae46e7d0f2",
   "metadata": {},
   "outputs": [],
   "source": [
    "sentenceMatchRegex = re.compile(r'''\n",
    "(Alice|Bob|Carol)        # The names\n",
    "\\s                            # space\n",
    "(eats|pets|throws)      # verds\n",
    "\\s                            # space\n",
    "(apples|cats|baseballs) # nouns\n",
    "\\.                            # period\n",
    "''', re.VERBOSE|re.I)"
   ]
  },
  {
   "cell_type": "code",
   "execution_count": 70,
   "id": "0b7c6a88-294c-4521-bfac-091d11ee7a0e",
   "metadata": {},
   "outputs": [
    {
     "data": {
      "text/plain": [
       "[('Alice', 'eats', 'apples'),\n",
       " ('Bob', 'pets', 'cats'),\n",
       " ('Carol', 'throws', 'baseballs'),\n",
       " ('Alice', 'throws', 'Apples'),\n",
       " ('BOB', 'EATS', 'CATS')]"
      ]
     },
     "execution_count": 70,
     "metadata": {},
     "output_type": "execute_result"
    }
   ],
   "source": [
    "senRegex = re.compile(r'(Alice|Bob|Carol)\\s(eats|pets|throws)\\s(apples|cats|baseballs).', re.I|re.DOTALL)\n",
    "\n",
    "senRegex.findall('''Alice eats apples.'\n",
    "\n",
    "'Bob pets cats.'\n",
    "\n",
    "'Carol throws baseballs.'\n",
    "\n",
    "'Alice throws Apples.'\n",
    "\n",
    "'BOB EATS CATS.'\n",
    "\n",
    "but not the following:\n",
    "\n",
    "'Robocop eats apples.'\n",
    "\n",
    "'ALICE THROWS FOOTBALLS.'\n",
    "\n",
    "'Carol eats 7 cats.''')\n",
    "\n"
   ]
  }
 ],
 "metadata": {
  "kernelspec": {
   "display_name": "Python 3 (ipykernel)",
   "language": "python",
   "name": "python3"
  },
  "language_info": {
   "codemirror_mode": {
    "name": "ipython",
    "version": 3
   },
   "file_extension": ".py",
   "mimetype": "text/x-python",
   "name": "python",
   "nbconvert_exporter": "python",
   "pygments_lexer": "ipython3",
   "version": "3.10.6"
  }
 },
 "nbformat": 4,
 "nbformat_minor": 5
}
